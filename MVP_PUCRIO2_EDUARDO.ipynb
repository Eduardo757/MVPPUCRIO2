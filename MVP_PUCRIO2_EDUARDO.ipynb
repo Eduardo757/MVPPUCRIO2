{
  "nbformat": 4,
  "nbformat_minor": 0,
  "metadata": {
    "colab": {
      "provenance": [],
      "toc_visible": true,
      "authorship_tag": "ABX9TyNFJkuL3UIdrUTpumUQuwii",
      "include_colab_link": true
    },
    "kernelspec": {
      "name": "python3",
      "display_name": "Python 3"
    },
    "language_info": {
      "name": "python"
    }
  },
  "cells": [
    {
      "cell_type": "markdown",
      "metadata": {
        "id": "view-in-github",
        "colab_type": "text"
      },
      "source": [
        "<a href=\"https://colab.research.google.com/github/Eduardo757/MVPPUCRIO2/blob/main/MVP_PUCRIO2_EDUARDO.ipynb\" target=\"_parent\"><img src=\"https://colab.research.google.com/assets/colab-badge.svg\" alt=\"Open In Colab\"/></a>"
      ]
    },
    {
      "cell_type": "markdown",
      "source": [
        "<FONT SIZE = '10'>\n",
        " MVP Machine Learning & Analytics </FONT>"
      ],
      "metadata": {
        "id": "R20Wmir-iham"
      }
    },
    {
      "cell_type": "markdown",
      "source": [
        "Eduardo Vasconcelos Sampaio <br>\n",
        "\n",
        "*PUC-RIO*\n"
      ],
      "metadata": {
        "id": "faICD9Aoi90k"
      }
    },
    {
      "cell_type": "markdown",
      "source": [
        "# Definição do Problema\n"
      ],
      "metadata": {
        "id": "Gyn70b4MjJFE"
      }
    },
    {
      "cell_type": "markdown",
      "source": [
        "O dataset utilizado neste MVP foi o Dataset :\n",
        "https://www.kaggle.com/datasets/amirhosseinmirzaie/nba-players-stats2023-season\n",
        "<br>\n",
        "\n",
        "Este trabalho tem como objetivo aproveitar os métodos de aprendizado de máquina aprendido durante o curso para analisar os dados históricos dos pontos marcados por jogadores da NBA. Utilizaremos um conjunto de dados compreensivo que inclui as estatísticas de desempenho dos jogadores ao longo da temporada de 2023. O foco será desenvolver um modelo preditivo que possa estimar o desempenho futuro de jogadores com base em sua perfomance. Por eu ser um grande fã de NBA ;) , aplicarei os conceitos e algoritmos estudados no curso, afim de treinar o modelo e no fim comparando os resultados obtidos.\n",
        "\n",
        "\n",
        "\n"
      ],
      "metadata": {
        "id": "veZQkO5AjdCB"
      }
    },
    {
      "cell_type": "markdown",
      "source": [
        " Este estudo não só contribui para o avanço da análise esportiva usando aprendizado de máquina, mas também ajudará a otimizar as decisões tomadas por gestores e treinadores no contexto competitivo da NBA."
      ],
      "metadata": {
        "id": "dGfUp1vTrdeh"
      }
    },
    {
      "cell_type": "markdown",
      "source": [
        "# Definição do Dataset\n"
      ],
      "metadata": {
        "id": "pOO3YzPCqnKk"
      }
    },
    {
      "cell_type": "markdown",
      "source": [
        "\n",
        "Estimar a pontuação de cada jogador é crucial na análise esportiva do basquete.\n",
        "Serve como uma métrica de desempenho crucial que permite que treinadores, analistas e torcedores avaliem a capacidade de pontuação de um jogador e a contribuição ofensiva geral para o time. Compreender o potencial de pontuação dos jogadores ajuda na tomada de decisões estratégicas durante os jogos, na seleção de jogadores e na caça de talentos.🏀"
      ],
      "metadata": {
        "id": "H6O92nsbrELr"
      }
    },
    {
      "cell_type": "markdown",
      "source": [
        "<table>\n",
        "\t<tbody>\n",
        "\t\t<tr>\n",
        "\t\t\t<td><b>Descrição</b></td>\n",
        "\t\t\t<td><b>Coluna</b></td>\n",
        "\t\t</tr>\n",
        "\t\t<tr>\n",
        "\t\t\t<td>Nome do jogador de basquete</td>\n",
        "\t\t\t<td>PName</td>\n",
        "\t\t</tr>\n",
        "\t\t<tr>\n",
        "\t\t\t<td>Posição do jogador, incluindo 'N/A' </td>\n",
        "\t\t\t<td>Pos</td>\n",
        "\t\t</tr>\n",
        "    <tr>\n",
        "\t\t\t<td>Time pelo qual atuou na temporada </td>\n",
        "\t\t\t<td>Team</td>\n",
        "\t\t</tr>\n",
        "\t\t<tr>\n",
        "\t\t\t<td>Idade do jogador</td>\n",
        "\t\t\t<td>Age</td>\n",
        "\t\t</tr>\n",
        "\t\t<tr>\n",
        "\t\t\t<td>Numero de jogos que o jogador atuou na temporada</td>\n",
        "\t\t\t<td>GP</td>\n",
        "\t\t</tr>\n",
        "\t\t<tr>\n",
        "\t\t\t<td>Numero de jogos que o jogador venceu na temporada</td>\n",
        "\t\t\t<td>W</td>\n",
        "\t\t</tr>\n",
        "\t\t<tr>\n",
        "\t\t\t<td>Numero de jogos que o jogador perdeu na temporada</td>\n",
        "\t\t\t<td>L</td>\n",
        "\t\t</tr>\n",
        "\t\t<tr>\n",
        "\t\t\t<td>O total de minutos que o jogador jogou na temporada</td>\n",
        "\t\t\t<td>Min</td>\n",
        "\t\t</tr>\n",
        "\t\t<tr>\n",
        "\t\t\t<td>Total de pontos feitos na temporada</td>\n",
        "\t\t\t<td>PTS</td>\n",
        "\t\t</tr>\n",
        "\t\t<tr>\n",
        "\t\t\t<td>Numero total de cestas feita pelo jogador</td>\n",
        "\t\t\t<td>FGM</td>\n",
        "\t\t</tr>\n",
        "\t\t<tr>\n",
        "\t\t\t<td>Numero total de cestas tentadas pelo jogador</td>\n",
        "\t\t\t<td>FGA</td>\n",
        "\t\t</tr>\n",
        "\t\t<tr>\n",
        "\t\t\t<td>Porcentagem de cestas acertadas pelo jogador</td>\n",
        "\t\t\t<td>FG%</td>\n",
        "\t\t</tr>\n",
        "\t\t<tr>\n",
        "\t\t\t<td>Numero total de cestas de 3 feitas pelo jogador</td>\n",
        "\t\t\t<td>3PM</td>\n",
        "\t\t</tr>\n",
        "\t\t<tr>\n",
        "\t\t\t<td>Numero total de cestas de 3 tentadas pelo jogador</td>\n",
        "\t\t\t<td>3PA</td>\n",
        "\t\t</tr>\n",
        "\t\t<tr>\n",
        "\t\t\t<td>Porcentagem de cestas de 3 acertadas pelo jogador</td>\n",
        "\t\t\t<td>3P%</td>\n",
        "\t\t</tr>\n",
        "\t\t<tr>\n",
        "\t\t\t<td>Numero total de cestas de lance livre acertadas </td>\n",
        "\t\t\t<td>FTM</td>\n",
        "\t\t</tr>\n",
        "\t\t<tr>\n",
        "\t\t\t<td>Numero total de cestas de lance livre tentadas</td>\n",
        "\t\t\t<td>FTA</td>\n",
        "\t\t</tr>\n",
        "\t\t<tr>\n",
        "\t\t\t<td>Porcentagem total de cestas de livre bem sucedidas</td>\n",
        "\t\t\t<td>FT%</td>\n",
        "\t\t</tr>\n",
        "\t\t<tr>\n",
        "\t\t\t<td>Numero total de rebotes ofensivos pelo jogador</td>\n",
        "\t\t\t<td>OREB</td>\n",
        "\t\t</tr>\n",
        "\t\t<tr>\n",
        "\t\t\t<td>Numero total de rebotes defensivos pelo jogador</td>\n",
        "\t\t\t<td>DREB</td>\n",
        "\t\t</tr>\n",
        "\t\t<tr>\n",
        "\t\t\t<td>Numero total de rebotes(ofensivo + defensivo) do jogador</td>\n",
        "\t\t\t<td>REB</td>\n",
        "\t\t</tr>\n",
        "\t\t<tr>\n",
        "\t\t\t<td>Numero total de Assistencia do jogador</td>\n",
        "\t\t\t<td>AST</td>\n",
        "\t\t</tr>\n",
        "\t\t<tr>\n",
        "\t\t\t<td>Numero total de perdas de bola do jogador</td>\n",
        "\t\t\t<td>TOV</td>\n",
        "\t\t</tr>\n",
        "\t\t<tr>\n",
        "\t\t\t<td>Numero total de roubadas de bola </td>\n",
        "\t\t\t<td>STL</td>\n",
        "\t\t</tr>\n",
        "\t\t<tr>\n",
        "\t\t\t<td>Numero total de bloqueio feitos pelo jogador</td>\n",
        "\t\t\t<td>BLK</td>\n",
        "\t\t</tr>\n",
        "\t\t<tr>\n",
        "\t\t\t<td>Numero total de faltas do jogador</td>\n",
        "\t\t\t<td>PF</td>\n",
        "\t\t</tr>\n",
        "\t\t<tr>\n",
        "\t\t\t<td>Numero total de pontos pelo jogador</td>\n",
        "\t\t\t<td>FP</td>\n",
        "\t\t</tr>\n",
        "\t\t<tr>\n",
        "\t\t\t<td>Numero total de duplo digitos feitos pelo jogador</td>\n",
        "\t\t\t<td>DD2</td>\n",
        "\t\t</tr>\n",
        "\t\t<tr>\n",
        "\t\t\t<td>Numero total de triplo digitos feito pelo jogador </td>\n",
        "\t\t\t<td>TD3</td>\n",
        "\t\t</tr>\n",
        "\t\t<tr>\n",
        "\t\t\t<td>A diferença total entre a pontuação da equipe do jogador e a pontuação do adversário enquanto o jogador está no jogo </td>\n",
        "\t\t\t<td>+/-</td>\n",
        "\t\t</tr>\n",
        "\t</tbody>\n",
        "</table>"
      ],
      "metadata": {
        "id": "7BMJ5XJu2b01"
      }
    },
    {
      "cell_type": "markdown",
      "source": [],
      "metadata": {
        "id": "KOQWbz6BE4iV"
      }
    },
    {
      "cell_type": "markdown",
      "source": [
        "# Importando as bibliotecas"
      ],
      "metadata": {
        "id": "SyR56S-bE5c2"
      }
    },
    {
      "cell_type": "code",
      "source": [
        "import pandas as pd\n",
        "import numpy as np\n",
        "import matplotlib.pyplot as plt\n",
        "import seaborn as sns\n",
        "import plotly.express as px\n",
        "import plotly.graph_objects as go\n",
        "from plotly.subplots import make_subplots\n",
        "\n",
        "from sklearn.model_selection import train_test_split , GridSearchCV, cross_val_score\n",
        "from sklearn.metrics import classification_report, confusion_matrix, f1_score, r2_score\n",
        "\n",
        "from sklearn.linear_model import LinearRegression\n",
        "from sklearn.neighbors import KNeighborsRegressor\n",
        "from sklearn.tree import DecisionTreeRegressor\n",
        "from sklearn.ensemble import RandomForestRegressor"
      ],
      "metadata": {
        "id": "ZvUVJGGZE-Nk"
      },
      "execution_count": 2,
      "outputs": []
    },
    {
      "cell_type": "code",
      "source": [
        "import warnings\n",
        "warnings.filterwarnings(\"ignore\")"
      ],
      "metadata": {
        "id": "AGCNRAuxFUYh"
      },
      "execution_count": 4,
      "outputs": []
    },
    {
      "cell_type": "code",
      "source": [
        "\n",
        "\n",
        "from plotly.offline import init_notebook_mode, iplot\n",
        "init_notebook_mode(connected=True)\n",
        "\n"
      ],
      "metadata": {
        "colab": {
          "base_uri": "https://localhost:8080/",
          "height": 17
        },
        "id": "AvnSZag-FVQR",
        "outputId": "8b0dc61b-9e46-4ee0-ac69-77f6f5f2abaa"
      },
      "execution_count": 3,
      "outputs": [
        {
          "output_type": "display_data",
          "data": {
            "text/html": [
              "        <script type=\"text/javascript\">\n",
              "        window.PlotlyConfig = {MathJaxConfig: 'local'};\n",
              "        if (window.MathJax && window.MathJax.Hub && window.MathJax.Hub.Config) {window.MathJax.Hub.Config({SVG: {font: \"STIX-Web\"}});}\n",
              "        if (typeof require !== 'undefined') {\n",
              "        require.undef(\"plotly\");\n",
              "        requirejs.config({\n",
              "            paths: {\n",
              "                'plotly': ['https://cdn.plot.ly/plotly-2.24.1.min']\n",
              "            }\n",
              "        });\n",
              "        require(['plotly'], function(Plotly) {\n",
              "            window._Plotly = Plotly;\n",
              "        });\n",
              "        }\n",
              "        </script>\n",
              "        "
            ]
          },
          "metadata": {}
        }
      ]
    },
    {
      "cell_type": "markdown",
      "source": [
        "# Lendo Dataset\n"
      ],
      "metadata": {
        "id": "sVYq3T42FZQj"
      }
    },
    {
      "cell_type": "code",
      "source": [
        "ev = pd.read_csv('../input/nba-players-stats2023-season/2023_nba_player_stats.csv')"
      ],
      "metadata": {
        "id": "FAuygeciFfKa"
      },
      "execution_count": null,
      "outputs": []
    }
  ]
}